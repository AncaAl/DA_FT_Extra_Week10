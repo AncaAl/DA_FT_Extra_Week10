{
 "cells": [
  {
   "cell_type": "markdown",
   "id": "f5acdb51",
   "metadata": {},
   "source": [
    "\n",
    "# Unsupervised Learning Lab: Evaluation Metrics\n",
    "\n",
    "## Introduction\n",
    "In this lab, you will evaluate the performance of the customer segmentation models that you created yesterday. You will use various evaluation metrics for unsupervised learning to assess the quality of the clusters.\n",
    "\n",
    "### Evaluation Metrics\n",
    "The following metrics will be used to evaluate the clustering models:\n",
    "1. Silhouette Score\n",
    "2. Davies-Bouldin Index\n",
    "3. Calinski-Harabasz Index\n",
    "\n",
    "## Exercise 1: Calculate Silhouette Score\n",
    "1. Calculate the Silhouette Score for the K-Means clustering model.\n",
    "2. Calculate the Silhouette Score for the Hierarchical clustering model.\n",
    "3. Calculate the Silhouette Score for the DBSCAN clustering model.\n",
    "\n",
    "## Exercise 2: Calculate Davies-Bouldin Index\n",
    "1. Calculate the Davies-Bouldin Index for the K-Means clustering model.\n",
    "2. Calculate the Davies-Bouldin Index for the Hierarchical clustering model.\n",
    "3. Calculate the Davies-Bouldin Index for the DBSCAN clustering model.\n",
    "\n",
    "## Exercise 3: Calculate Calinski-Harabasz Index\n",
    "1. Calculate the Calinski-Harabasz Index for the K-Means clustering model.\n",
    "2. Calculate the Calinski-Harabasz Index for the Hierarchical clustering model.\n",
    "3. Calculate the Calinski-Harabasz Index for the DBSCAN clustering model.\n",
    "\n",
    "### Instructions\n",
    "1. Load the dataset and the clustering results from the previous lab.\n",
    "2. Use the `sklearn.metrics` module to calculate the evaluation metrics.\n",
    "3. Interpret the results and compare the performance of the different clustering models.\n"
   ]
  },
  {
   "cell_type": "code",
   "execution_count": null,
   "id": "c565c0cb",
   "metadata": {},
   "outputs": [],
   "source": []
  }
 ],
 "metadata": {
  "kernelspec": {
   "display_name": "Python 3 (ipykernel)",
   "language": "python",
   "name": "python3"
  },
  "language_info": {
   "codemirror_mode": {
    "name": "ipython",
    "version": 3
   },
   "file_extension": ".py",
   "mimetype": "text/x-python",
   "name": "python",
   "nbconvert_exporter": "python",
   "pygments_lexer": "ipython3",
   "version": "3.11.5"
  }
 },
 "nbformat": 4,
 "nbformat_minor": 5
}
